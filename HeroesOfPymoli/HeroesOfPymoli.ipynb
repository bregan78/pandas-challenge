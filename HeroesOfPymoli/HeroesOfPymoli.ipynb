{
 "cells": [
  {
   "cell_type": "code",
   "execution_count": 55,
   "metadata": {},
   "outputs": [
    {
     "data": {
      "text/html": [
       "<div>\n",
       "<style scoped>\n",
       "    .dataframe tbody tr th:only-of-type {\n",
       "        vertical-align: middle;\n",
       "    }\n",
       "\n",
       "    .dataframe tbody tr th {\n",
       "        vertical-align: top;\n",
       "    }\n",
       "\n",
       "    .dataframe thead th {\n",
       "        text-align: right;\n",
       "    }\n",
       "</style>\n",
       "<table border=\"1\" class=\"dataframe\">\n",
       "  <thead>\n",
       "    <tr style=\"text-align: right;\">\n",
       "      <th></th>\n",
       "      <th>Purchase ID</th>\n",
       "      <th>SN</th>\n",
       "      <th>Age</th>\n",
       "      <th>Gender</th>\n",
       "      <th>Item ID</th>\n",
       "      <th>Item Name</th>\n",
       "      <th>Price</th>\n",
       "    </tr>\n",
       "  </thead>\n",
       "  <tbody>\n",
       "    <tr>\n",
       "      <th>0</th>\n",
       "      <td>0</td>\n",
       "      <td>Lisim78</td>\n",
       "      <td>20</td>\n",
       "      <td>Male</td>\n",
       "      <td>108</td>\n",
       "      <td>Extraction, Quickblade Of Trembling Hands</td>\n",
       "      <td>3.53</td>\n",
       "    </tr>\n",
       "    <tr>\n",
       "      <th>1</th>\n",
       "      <td>1</td>\n",
       "      <td>Lisovynya38</td>\n",
       "      <td>40</td>\n",
       "      <td>Male</td>\n",
       "      <td>143</td>\n",
       "      <td>Frenzied Scimitar</td>\n",
       "      <td>1.56</td>\n",
       "    </tr>\n",
       "    <tr>\n",
       "      <th>2</th>\n",
       "      <td>2</td>\n",
       "      <td>Ithergue48</td>\n",
       "      <td>24</td>\n",
       "      <td>Male</td>\n",
       "      <td>92</td>\n",
       "      <td>Final Critic</td>\n",
       "      <td>4.88</td>\n",
       "    </tr>\n",
       "    <tr>\n",
       "      <th>3</th>\n",
       "      <td>3</td>\n",
       "      <td>Chamassasya86</td>\n",
       "      <td>24</td>\n",
       "      <td>Male</td>\n",
       "      <td>100</td>\n",
       "      <td>Blindscythe</td>\n",
       "      <td>3.27</td>\n",
       "    </tr>\n",
       "    <tr>\n",
       "      <th>4</th>\n",
       "      <td>4</td>\n",
       "      <td>Iskosia90</td>\n",
       "      <td>23</td>\n",
       "      <td>Male</td>\n",
       "      <td>131</td>\n",
       "      <td>Fury</td>\n",
       "      <td>1.44</td>\n",
       "    </tr>\n",
       "  </tbody>\n",
       "</table>\n",
       "</div>"
      ],
      "text/plain": [
       "   Purchase ID             SN  Age Gender  Item ID  \\\n",
       "0            0        Lisim78   20   Male      108   \n",
       "1            1    Lisovynya38   40   Male      143   \n",
       "2            2     Ithergue48   24   Male       92   \n",
       "3            3  Chamassasya86   24   Male      100   \n",
       "4            4      Iskosia90   23   Male      131   \n",
       "\n",
       "                                   Item Name  Price  \n",
       "0  Extraction, Quickblade Of Trembling Hands   3.53  \n",
       "1                          Frenzied Scimitar   1.56  \n",
       "2                               Final Critic   4.88  \n",
       "3                                Blindscythe   3.27  \n",
       "4                                       Fury   1.44  "
      ]
     },
     "execution_count": 55,
     "metadata": {},
     "output_type": "execute_result"
    }
   ],
   "source": [
    "# Dependencies and Setup\n",
    "import pandas as pd\n",
    "\n",
    "# File to Load (Remember to Change These)\n",
    "file_to_load = \"Resources/purchase_data.csv\"\n",
    "\n",
    "# Read Purchasing File and store into Pandas data frame\n",
    "purchase_data = pd.read_csv(file_to_load)\n",
    "purchase_data.head()"
   ]
  },
  {
   "cell_type": "code",
   "execution_count": 56,
   "metadata": {},
   "outputs": [
    {
     "data": {
      "text/plain": [
       "Purchase ID      int64\n",
       "SN              object\n",
       "Age              int64\n",
       "Gender          object\n",
       "Item ID          int64\n",
       "Item Name       object\n",
       "Price          float64\n",
       "dtype: object"
      ]
     },
     "execution_count": 56,
     "metadata": {},
     "output_type": "execute_result"
    }
   ],
   "source": [
    "purchase_data.dtypes"
   ]
  },
  {
   "cell_type": "code",
   "execution_count": 2,
   "metadata": {},
   "outputs": [
    {
     "data": {
      "text/plain": [
       "576"
      ]
     },
     "execution_count": 2,
     "metadata": {},
     "output_type": "execute_result"
    }
   ],
   "source": [
    "s = len(purchase_data[\"SN\"].unique().tolist()) \n",
    "s"
   ]
  },
  {
   "cell_type": "code",
   "execution_count": 57,
   "metadata": {},
   "outputs": [
    {
     "data": {
      "text/html": [
       "<div>\n",
       "<style scoped>\n",
       "    .dataframe tbody tr th:only-of-type {\n",
       "        vertical-align: middle;\n",
       "    }\n",
       "\n",
       "    .dataframe tbody tr th {\n",
       "        vertical-align: top;\n",
       "    }\n",
       "\n",
       "    .dataframe thead th {\n",
       "        text-align: right;\n",
       "    }\n",
       "</style>\n",
       "<table border=\"1\" class=\"dataframe\">\n",
       "  <thead>\n",
       "    <tr style=\"text-align: right;\">\n",
       "      <th></th>\n",
       "      <th>Number of Unique Items</th>\n",
       "      <th>Average Price</th>\n",
       "      <th>Number of Purchases</th>\n",
       "      <th>Total Revenue</th>\n",
       "    </tr>\n",
       "  </thead>\n",
       "  <tbody>\n",
       "    <tr>\n",
       "      <th>0</th>\n",
       "      <td>179</td>\n",
       "      <td>$3.05</td>\n",
       "      <td>780</td>\n",
       "      <td>$2,379.77</td>\n",
       "    </tr>\n",
       "  </tbody>\n",
       "</table>\n",
       "</div>"
      ],
      "text/plain": [
       "   Number of Unique Items Average Price  Number of Purchases Total Revenue\n",
       "0                     179         $3.05                  780     $2,379.77"
      ]
     },
     "execution_count": 57,
     "metadata": {},
     "output_type": "execute_result"
    }
   ],
   "source": [
    "unique_items = len(purchase_data[\"Item ID\"].unique().tolist())\n",
    "number_of_pruchases = len(purchase_data[\"Item ID\"])\n",
    "avg_price = purchase_data[\"Price\"].sum() / number_of_pruchases\n",
    "avg_price_rounded =round(avg_price, 2)\n",
    "total_rev = round(purchase_data[\"Price\"].sum(), 2)\n",
    "\n",
    "\n",
    "df = pd.DataFrame([unique_items, avg_price_rounded, number_of_pruchases, total_rev],\n",
    "                  columns=[['Number of Unique Items'], ['Average Price'], ['Number of Purchases'], ['Total Revenue']])\n",
    "\n",
    "# intialise data of lists. \n",
    "data = {'Number of Unique Items':[unique_items], 'Average Price':[avg_price_rounded], \n",
    "        'Number of Purchases':[number_of_pruchases], 'Total Revenue':[total_rev] } \n",
    "  \n",
    "# Create DataFrame \n",
    "df = pd.DataFrame(data) \n",
    "df['Average Price'] = df['Average Price'].map('${:,.2f}'.format)\n",
    "df['Total Revenue' ] = df['Total Revenue'].map('${:,.2f}'.format)\n",
    "# Print the output. \n",
    "df "
   ]
  },
  {
   "cell_type": "code",
   "execution_count": 94,
   "metadata": {},
   "outputs": [
    {
     "data": {
      "text/html": [
       "<div>\n",
       "<style scoped>\n",
       "    .dataframe tbody tr th:only-of-type {\n",
       "        vertical-align: middle;\n",
       "    }\n",
       "\n",
       "    .dataframe tbody tr th {\n",
       "        vertical-align: top;\n",
       "    }\n",
       "\n",
       "    .dataframe thead th {\n",
       "        text-align: right;\n",
       "    }\n",
       "</style>\n",
       "<table border=\"1\" class=\"dataframe\">\n",
       "  <thead>\n",
       "    <tr style=\"text-align: right;\">\n",
       "      <th></th>\n",
       "      <th>Total Count</th>\n",
       "      <th>Percentage of Players</th>\n",
       "    </tr>\n",
       "  </thead>\n",
       "  <tbody>\n",
       "    <tr>\n",
       "      <th>Male</th>\n",
       "      <td>484</td>\n",
       "      <td>84.03%</td>\n",
       "    </tr>\n",
       "    <tr>\n",
       "      <th>Female</th>\n",
       "      <td>81</td>\n",
       "      <td>14.06%</td>\n",
       "    </tr>\n",
       "    <tr>\n",
       "      <th>Other / Non-Disclosed</th>\n",
       "      <td>11</td>\n",
       "      <td>1.91%</td>\n",
       "    </tr>\n",
       "  </tbody>\n",
       "</table>\n",
       "</div>"
      ],
      "text/plain": [
       "                       Total Count Percentage of Players\n",
       "Male                           484                84.03%\n",
       "Female                          81                14.06%\n",
       "Other / Non-Disclosed           11                 1.91%"
      ]
     },
     "execution_count": 94,
     "metadata": {},
     "output_type": "execute_result"
    }
   ],
   "source": [
    "Sn_gender_Male = purchase_data.loc[purchase_data['Gender'] == 'Male']\n",
    " \n",
    "count_of_unique_males = len(Sn_gender_Male.SN.unique())\n",
    "count_of_unique_males\n",
    "Sn_gender_female = purchase_data.loc[purchase_data['Gender'] == 'Female']\n",
    "count_of_unique_females = len(Sn_gender_female.SN.unique())\n",
    "count_of_unique_females\n",
    "Sn_gender_other = purchase_data.loc[purchase_data['Gender'] == 'Other / Non-Disclosed']\n",
    "count_of_unique_other = len(Sn_gender_other.SN.unique())\n",
    "count_of_unique_other\n",
    "Male_percent = count_of_unique_males/(count_of_unique_males + count_of_unique_females + count_of_unique_other)*100\n",
    "Female_percent = count_of_unique_females/(count_of_unique_males + count_of_unique_females + count_of_unique_other)*100\n",
    "other_percent = count_of_unique_other/(count_of_unique_males + count_of_unique_females + count_of_unique_other)*100\n",
    "\n",
    "gender_demo_data = {'Total Count': [count_of_unique_males, count_of_unique_females, count_of_unique_other], \n",
    "        'Percentage of Players': [Male_percent, Female_percent,other_percent]} \n",
    "        \n",
    "gender_demo = pd.DataFrame(data, index = ['Male', 'Female', 'Other / Non-Disclosed'])\n",
    "\n",
    "\n",
    "gender_demo['Percentage of Players'] = gender_demo['Percentage of Players'].map('{:.2f}%'.format)\n",
    "gender_demo"
   ]
  },
  {
   "cell_type": "code",
   "execution_count": 103,
   "metadata": {},
   "outputs": [
    {
     "data": {
      "text/html": [
       "<div>\n",
       "<style scoped>\n",
       "    .dataframe tbody tr th:only-of-type {\n",
       "        vertical-align: middle;\n",
       "    }\n",
       "\n",
       "    .dataframe tbody tr th {\n",
       "        vertical-align: top;\n",
       "    }\n",
       "\n",
       "    .dataframe thead th {\n",
       "        text-align: right;\n",
       "    }\n",
       "</style>\n",
       "<table border=\"1\" class=\"dataframe\">\n",
       "  <thead>\n",
       "    <tr style=\"text-align: right;\">\n",
       "      <th></th>\n",
       "      <th>Purchase Count</th>\n",
       "      <th>Average Purchase Price</th>\n",
       "      <th>Total Purchase Value</th>\n",
       "      <th>Avg Total Purchase per Person</th>\n",
       "    </tr>\n",
       "  </thead>\n",
       "  <tbody>\n",
       "    <tr>\n",
       "      <th>Female</th>\n",
       "      <td>113</td>\n",
       "      <td>$3.20</td>\n",
       "      <td>$361.94</td>\n",
       "      <td>$4.47</td>\n",
       "    </tr>\n",
       "    <tr>\n",
       "      <th>Male</th>\n",
       "      <td>652</td>\n",
       "      <td>$3.02</td>\n",
       "      <td>$1967.64</td>\n",
       "      <td>$4.07</td>\n",
       "    </tr>\n",
       "    <tr>\n",
       "      <th>Other / Non-Disclosed</th>\n",
       "      <td>15</td>\n",
       "      <td>$3.35</td>\n",
       "      <td>$50.19</td>\n",
       "      <td>$4.56</td>\n",
       "    </tr>\n",
       "  </tbody>\n",
       "</table>\n",
       "</div>"
      ],
      "text/plain": [
       "                       Purchase Count Average Purchase Price  \\\n",
       "Female                            113                  $3.20   \n",
       "Male                              652                  $3.02   \n",
       "Other / Non-Disclosed              15                  $3.35   \n",
       "\n",
       "                      Total Purchase Value Avg Total Purchase per Person  \n",
       "Female                             $361.94                         $4.47  \n",
       "Male                              $1967.64                         $4.07  \n",
       "Other / Non-Disclosed               $50.19                         $4.56  "
      ]
     },
     "execution_count": 103,
     "metadata": {},
     "output_type": "execute_result"
    }
   ],
   "source": [
    "#Sn_gender_Male = purchase_data.loc[purchase_data['Gender'] == 'Male']\n",
    "#male_total_purchase = Sn_gender_Male.Price.sum()\n",
    "male_total_purchase = Sn_gender_Male.Price.sum()\n",
    "Male_total_purchase\n",
    "female_total_purchase = Sn_gender_female.Price.sum()\n",
    "female_total_purchase\n",
    "\n",
    "other_total_purchase= Sn_gender_other.Price.sum()\n",
    "other_total_purchase\n",
    "\n",
    "count_of_Male_purchases = len(Sn_gender_Male.SN)\n",
    "count_of_Male_purchases\n",
    "count_of_female_purchases = len(Sn_gender_female.SN)\n",
    "count_of_female_purchases\n",
    "count_of_other_purchases = len(Sn_gender_other.SN)\n",
    "count_of_other_purchases\n",
    "\n",
    "male_avg_purchase = Male_total_purchase/count_of_Male_purchases\n",
    "male_avg_purchase\n",
    "\n",
    "female_avg_purchase = female_total_purchase/count_of_female_purchases\n",
    "female_avg_purchase\n",
    "\n",
    "other_avg_purchase = other_total_purchase/count_of_other_purchases\n",
    "other_avg_purchase \n",
    "\n",
    "male_avg_total_pp = Male_total_purchase/count_of_unique_males\n",
    "male_avg_total_pp\n",
    "\n",
    "female_avg_total_pp = female_total_purchase/count_of_unique_females\n",
    "female_avg_total_pp\n",
    "\n",
    "other_avg_total_pp = other_total_purchase/count_of_unique_other\n",
    "other_avg_total_pp\n",
    "\n",
    "purch_analysis_gender_data = {'Purchase Count': [count_of_female_purchases, count_of_Male_purchases, count_of_other_purchases], \n",
    "        'Average Purchase Price': [female_avg_purchase, male_avg_purchase, other_avg_purchase],\n",
    "          'Total Purchase Value': [female_total_purchase, Male_total_purchase,other_total_purchase],   \n",
    "            'Avg Total Purchase per Person':[female_avg_total_pp, male_avg_total_pp, other_avg_total_pp]} \n",
    "        \n",
    "purch_analysis_gender_demo = pd.DataFrame(purch_analysis_gender_data, index = ['Female', 'Male', 'Other / Non-Disclosed'])\n",
    "\n",
    "\n",
    "purch_analysis_gender_demo['Average Purchase Price'] = purch_analysis_gender_demo['Average Purchase Price'].map('${:.2f}'.format)\n",
    "purch_analysis_gender_demo['Avg Total Purchase per Person'] = purch_analysis_gender_demo['Avg Total Purchase per Person'].map('${:.2f}'.format)\n",
    "purch_analysis_gender_demo['Total Purchase Value'] = purch_analysis_gender_demo['Total Purchase Value'].map('${:.2f}'.format)\n",
    "purch_analysis_gender_demo\n"
   ]
  },
  {
   "cell_type": "code",
   "execution_count": 165,
   "metadata": {},
   "outputs": [
    {
     "data": {
      "text/plain": [
       "Age\n",
       "<10       17\n",
       "10-14     22\n",
       "15-19    107\n",
       "20-24    258\n",
       "25-29     77\n",
       "30-34     52\n",
       "35-39     31\n",
       "40+       12\n",
       "Name: Age, dtype: int64"
      ]
     },
     "execution_count": 165,
     "metadata": {},
     "output_type": "execute_result"
    }
   ],
   "source": [
    "new_df = purchase_data\n",
    "\n",
    "bins = pd.cut(new_df['Age'], [0, 9, 14, 19, 24, 29, 34, 39,150])\n",
    "\n",
    "new_df.groupby(bins)['Age'].\n",
    "\n",
    "#In [2]: bins = pd.cut(df['Value'], [0, 100, 250, 1500])\n",
    "\n",
    "#In [3]: df.groupby(bins)['Value'].agg(['count', 'sum'])\n",
    "\n",
    "#new_df1 = new_df.drop_duplicates(['SN'])\n",
    "#bins = [0, 9, 14, 19, 24, 29, 34, 39,150]\n",
    "#names = ['<10', '10-14', '15-19', '20-24', '25-29', '30-34', '35-39', '40+']\n",
    "#groups = new_df1.groupby(pd.cut(new_df1['Age'], bins, labels=names))\n",
    "#groups.Age.count()\n",
    "\n",
    "\n"
   ]
  },
  {
   "cell_type": "code",
   "execution_count": null,
   "metadata": {},
   "outputs": [],
   "source": []
  }
 ],
 "metadata": {
  "kernelspec": {
   "display_name": "Python 3",
   "language": "python",
   "name": "python3"
  },
  "language_info": {
   "codemirror_mode": {
    "name": "ipython",
    "version": 3
   },
   "file_extension": ".py",
   "mimetype": "text/x-python",
   "name": "python",
   "nbconvert_exporter": "python",
   "pygments_lexer": "ipython3",
   "version": "3.6.10"
  }
 },
 "nbformat": 4,
 "nbformat_minor": 4
}
